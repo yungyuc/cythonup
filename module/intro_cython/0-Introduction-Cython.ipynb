{
 "cells": [
  {
   "cell_type": "markdown",
   "metadata": {},
   "source": [
    "# Introduction to Cython\n",
    "\n",
    "## Cython is \n",
    "* a programming language that mix Python and C/C++, and it\n",
    "* makes writing C extensions for Python as easy as Python itself\n",
    "\n",
    "## cython is\n",
    "* a compiler that translate Cython code into C/C++ code which execute more efficient"
   ]
  },
  {
   "cell_type": "markdown",
   "metadata": {},
   "source": [
    "# Cython and CPython\n",
    "\n",
    "## Python family\n",
    "* CPython\n",
    "  * the current standard and most widely used Python implmentation\n",
    "* Jython (Java)\n",
    "* IronPython (.Net)\n",
    "* PyPy (Python implmentation in Python)\n",
    "\n",
    "## Cython is not CPython\n",
    "* Cython is not a Python Implementation\n",
    "* Cython depends on CPython (yes, there is cpyext for pypy, not matual and not covered here)\n",
    "  * use CPython runtime to run the extension modules it generates\n"
   ]
  },
  {
   "cell_type": "markdown",
   "metadata": {},
   "source": [
    "# How to use Cython\n",
    "* C compiler required\n",
    "* write Python code\n",
    "  * Cython translates it into C code\n",
    "    * your C compiler builds a shared library for CPython\n",
    "    * use it via import your module into CPython\n",
    "    * [_distutils_](https://docs.python.org/2/distutils/) helps\n",
    "  * or compile as binary"
   ]
  },
  {
   "cell_type": "markdown",
   "metadata": {},
   "source": [
    "# Say Hello World!\n",
    "\n",
    "## Following basic methods to say \"Hello World\"\n",
    "\n",
    "* Build as binary\n",
    "* Import via pyximport\n",
    "* Build as shared library and import it\n",
    "\n",
    "## Helloworld.pyx\n",
    "\n",
    "[helloworld.pyx](/edit/helloworld/helloworld.pyx)\n",
    "```python\n",
    "print(\"Hello World\")\n",
    "```\n",
    "\n",
    "[Makefile](/edit/helloworld/Makefile)\n",
    "```bash\n",
    "helloworld: helloworld.pyx\n",
    "    cython --embed -a $<\n",
    "    gcc -O3 -march=native -o $@ $@.c `python2-config --cflags --ldflags`\n",
    "\n",
    "lib:\n",
    "    python setup.py build_ext --inplace -f  # -if\n",
    "```"
   ]
  },
  {
   "cell_type": "code",
   "execution_count": 1,
   "metadata": {
    "collapsed": false
   },
   "outputs": [
    {
     "name": "stdout",
     "output_type": "stream",
     "text": [
      "\n",
      "Converting to c code.....\n",
      "cython --embed -a helloworld.pyx\n",
      "\n",
      "Building binary..........\n",
      "g++ -w -O3 -march=native -o helloworld helloworld.c `python2-config --cflags --ldflags`\n",
      "\n",
      "\n",
      "Hello World\n"
     ]
    }
   ],
   "source": [
    "# build as binary\n",
    "!cd helloworld; make clean; make helloworld; ./helloworld"
   ]
  },
  {
   "cell_type": "code",
   "execution_count": 2,
   "metadata": {
    "collapsed": false
   },
   "outputs": [
    {
     "name": "stdout",
     "output_type": "stream",
     "text": [
      "Hello World\n"
     ]
    }
   ],
   "source": [
    "import sys; sys.path.append(\"./helloworld\")\n",
    "import pyximport; pyximport.install()\n",
    "import helloworld"
   ]
  },
  {
   "cell_type": "code",
   "execution_count": 3,
   "metadata": {
    "collapsed": false
   },
   "outputs": [
    {
     "name": "stdout",
     "output_type": "stream",
     "text": [
      "\n",
      "Building as a shared library\n",
      "python setup.py build_ext --inplace -f  # -if\n",
      "Compiling helloworld.pyx because it changed.\n",
      "Cythonizing helloworld.pyx\n",
      "running build_ext\n",
      "building 'helloworld' extension\n",
      "x86_64-linux-gnu-gcc -pthread -DNDEBUG -g -fwrapv -O2 -Wall -Wstrict-prototypes -fno-strict-aliasing -D_FORTIFY_SOURCE=2 -g -fstack-protector-strong -Wformat -Werror=format-security -fPIC -I/usr/include/python2.7 -c helloworld.c -o build/temp.linux-x86_64-2.7/helloworld.o\n",
      "x86_64-linux-gnu-gcc -pthread -shared -Wl,-O1 -Wl,-Bsymbolic-functions -Wl,-z,relro -fno-strict-aliasing -DNDEBUG -g -fwrapv -O2 -Wall -Wstrict-prototypes -D_FORTIFY_SOURCE=2 -g -fstack-protector-strong -Wformat -Werror=format-security -Wl,-z,relro -D_FORTIFY_SOURCE=2 -g -fstack-protector-strong -Wformat -Werror=format-security build/temp.linux-x86_64-2.7/helloworld.o -o /home/vagrant/git/cythonup/module/quick_prototyping_for_speed/helloworld/helloworld.so\n",
      "\n",
      "\n",
      "Hello World\n"
     ]
    }
   ],
   "source": [
    "# build as shared library\n",
    "!cd helloworld; make clean; make lib\n",
    "!cd helloworld; python -c 'import helloworld'"
   ]
  },
  {
   "cell_type": "markdown",
   "metadata": {},
   "source": [
    "# Installation\n",
    "## Linux"
   ]
  },
  {
   "cell_type": "code",
   "execution_count": 4,
   "metadata": {
    "collapsed": false
   },
   "outputs": [
    {
     "name": "stdout",
     "output_type": "stream",
     "text": [
      "Reading package lists... Done\n",
      "Building dependency tree       \n",
      "Reading state information... Done\n",
      "build-essential is already the newest version.\n",
      "0 upgraded, 0 newly installed, 0 to remove and 15 not upgraded.\n",
      "Requirement already satisfied (use --upgrade to upgrade): cython in /usr/local/lib/python2.7/dist-packages\n",
      "Cleaning up...\n"
     ]
    }
   ],
   "source": [
    "!sudo apt-get install build-essential\n",
    "!sudo pip install cython"
   ]
  },
  {
   "cell_type": "markdown",
   "metadata": {},
   "source": [
    "## Mac\n",
    "Install XCode from App Store"
   ]
  },
  {
   "cell_type": "code",
   "execution_count": null,
   "metadata": {
    "collapsed": false
   },
   "outputs": [],
   "source": [
    "!xcode-select --install  # install xcode command line tools\n",
    "!pip install cython"
   ]
  },
  {
   "cell_type": "markdown",
   "metadata": {},
   "source": [
    "## Others include Windows\n",
    "Refer to <a href=\"http://docs.cython.org/src/quickstart/install.html\">Cython QuickStart</a>"
   ]
  },
  {
   "cell_type": "markdown",
   "metadata": {},
   "source": [
    "# IPython\n",
    "## Run Cython from IPython\n",
    "* **%load_ext cythonmagic** used to be bundled, but is now part of cython and deprecated.\n",
    "* after ipython 3.0. Use **%load_ext Cython** to load it."
   ]
  },
  {
   "cell_type": "code",
   "execution_count": 6,
   "metadata": {
    "collapsed": false
   },
   "outputs": [
    {
     "name": "stdout",
     "output_type": "stream",
     "text": [
      "The Cython magic has been moved to the Cython package, hence \n",
      "`%load_ext cythonmagic` is deprecated; please use `%load_ext Cython` instead.\n",
      "\n",
      "Though, because I am nice, I'll still try to load it for you this time.\n"
     ]
    }
   ],
   "source": [
    "%load_ext cythonmagic"
   ]
  },
  {
   "cell_type": "code",
   "execution_count": 7,
   "metadata": {
    "collapsed": false
   },
   "outputs": [],
   "source": [
    "%load_ext Cython"
   ]
  },
  {
   "cell_type": "markdown",
   "metadata": {},
   "source": [
    "## Exercise\n",
    "### \"Hello world\" in Cython from helloworld/"
   ]
  }
 ],
 "metadata": {
  "kernelspec": {
   "display_name": "Python 2",
   "language": "python",
   "name": "python2"
  },
  "language_info": {
   "codemirror_mode": {
    "name": "ipython",
    "version": 2
   },
   "file_extension": ".py",
   "mimetype": "text/x-python",
   "name": "python",
   "nbconvert_exporter": "python",
   "pygments_lexer": "ipython2",
   "version": "2.7.9"
  }
 },
 "nbformat": 4,
 "nbformat_minor": 0
}
