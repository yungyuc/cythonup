{
 "cells": [
  {
   "cell_type": "markdown",
   "metadata": {},
   "source": [
    "# Cython, using C and C++"
   ]
  },
  {
   "cell_type": "code",
   "execution_count": 1,
   "metadata": {
    "collapsed": true
   },
   "outputs": [],
   "source": [
    "%load_ext Cython"
   ]
  },
  {
   "cell_type": "markdown",
   "metadata": {},
   "source": [
    "## \"extern\" from header file\n",
    "Example: [Binet's Fibonacci Number Formula](http://mathworld.wolfram.com/BinetsFibonacciNumberFormula.html)"
   ]
  },
  {
   "cell_type": "code",
   "execution_count": 2,
   "metadata": {
    "collapsed": false
   },
   "outputs": [
    {
     "name": "stdout",
     "output_type": "stream",
     "text": [
      "55.0\n"
     ]
    }
   ],
   "source": [
    "%%cython\n",
    "cdef extern from \"math.h\":\n",
    "    double sqrt(double)\n",
    "    double pow(double, double)\n",
    "    double round(double)\n",
    "    \n",
    "cdef double phi = (1 + sqrt(5.0))*0.5\n",
    "\n",
    "cdef double binet(unsigned int n):\n",
    "    cdef double fib\n",
    "    fib = (pow(phi,n) - pow(1-phi,n))/sqrt(5)\n",
    "    return round(fib)\n",
    "\n",
    "\n",
    "print binet(10)"
   ]
  },
  {
   "cell_type": "code",
   "execution_count": 3,
   "metadata": {
    "collapsed": false
   },
   "outputs": [
    {
     "name": "stdout",
     "output_type": "stream",
     "text": [
      "3.16227766017\n"
     ]
    }
   ],
   "source": [
    "%%cython\n",
    "cdef extern from \"math.h\":\n",
    "    double sqrt(double)\n",
    "    \n",
    "print sqrt(10.0)"
   ]
  },
  {
   "cell_type": "markdown",
   "metadata": {},
   "source": [
    "## from .pxd\n",
    "### C Stadard library\n",
    "Standard cimport files (.pxd) in Cython’s source package [Cython/Includes/](https://github.com/cython/cython/tree/master/Cython/Includes)."
   ]
  },
  {
   "cell_type": "code",
   "execution_count": 4,
   "metadata": {
    "collapsed": false
   },
   "outputs": [
    {
     "name": "stdout",
     "output_type": "stream",
     "text": [
      "0.841470984808\n"
     ]
    }
   ],
   "source": [
    "%%cython\n",
    "from libc.math cimport sin\n",
    "\n",
    "cdef double f(double x):\n",
    "    return sin(x*x)\n",
    "\n",
    "print f(1)"
   ]
  },
  {
   "cell_type": "markdown",
   "metadata": {},
   "source": [
    "### C++ Standard library\n",
    "```cython\n",
    "from libcpp.vector cimport vector\n",
    "\n",
    "cdef vector[int] vect\n",
    "cdef int i\n",
    "for i in range(10):\n",
    "    vect.push_back(i)\n",
    "for i in range(10):\n",
    "    print vect[i]\n",
    "```"
   ]
  },
  {
   "cell_type": "markdown",
   "metadata": {},
   "source": [
    "## from Dynamic linking (distutils)\n",
    "[cm.pyx](/edit/c_cpp/cm.pyx)\n",
    "```cython\n",
    "from libc.math cimport sin\n",
    "\n",
    "cdef double f(double x):\n",
    "    return sin(x*x)\n",
    "\n",
    "print f(9)\n",
    "```\n",
    "[setup.py](/edit/c_cpp/setup.py)\n",
    "```python\n",
    "from distutils.core import setup\n",
    "from distutils.extension import Extension\n",
    "from Cython.Build import cythonize\n",
    "\n",
    "ext_modules=[\n",
    "    Extension(\"cm\", sources=[\"cm.pyx\"], libraries=[\"m\"])\n",
    "]\n",
    "\n",
    "setup(\n",
    "  name = \"C_module\",\n",
    "  ext_modules = cythonize(ext_modules)\n",
    ")\n",
    "```"
   ]
  },
  {
   "cell_type": "code",
   "execution_count": 5,
   "metadata": {
    "collapsed": false
   },
   "outputs": [
    {
     "name": "stdout",
     "output_type": "stream",
     "text": [
      "Compiling cm.pyx because it changed.\n",
      "Cythonizing cm.pyx\n"
     ]
    }
   ],
   "source": [
    "# build .so wrapper\n",
    "!cd c_cpp; python ./setup.py -q build_ext -q -fi"
   ]
  },
  {
   "cell_type": "code",
   "execution_count": 6,
   "metadata": {
    "collapsed": false
   },
   "outputs": [
    {
     "name": "stdout",
     "output_type": "stream",
     "text": [
      "-0.629887994274\r\n"
     ]
    }
   ],
   "source": [
    "# test run\n",
    "!cd c_cpp; python -c 'import cm'"
   ]
  },
  {
   "cell_type": "markdown",
   "metadata": {},
   "source": [
    "# Exercise\n",
    "\n",
    "## Fibonacci\n",
    "[fib.py](/edit/fibonacci/fib.py)\n",
    "```python\n",
    "def fib(n):\n",
    "    a = 0\n",
    "    b = 1\n",
    "    for i in range(n):\n",
    "        a, b = a + b, a\n",
    "        print b,\n",
    "    return a\n",
    "\n",
    "\n",
    "if __name__ == '__main__':\n",
    "    import sys\n",
    "    arg, numiter = map(int, sys.argv[1:])\n",
    "    for i in range(numiter):\n",
    "        print fib(arg)\n",
    "```"
   ]
  },
  {
   "cell_type": "code",
   "execution_count": 7,
   "metadata": {
    "collapsed": false
   },
   "outputs": [
    {
     "name": "stdout",
     "output_type": "stream",
     "text": [
      "0 1 1 2 3 5 8 13 21 34 55\r\n",
      "0 1 1 2 3 5 8 13 21 34 55\r\n",
      "0 1 1 2 3 5 8 13 21 34 55\r\n",
      "0 1 1 2 3 5 8 13 21 34 55\r\n",
      "0 1 1 2 3 5 8 13 21 34 55\r\n"
     ]
    }
   ],
   "source": [
    "!cd fibonacci; python ./fib.py 10 5"
   ]
  }
 ],
 "metadata": {
  "kernelspec": {
   "display_name": "Python 2",
   "language": "python",
   "name": "python2"
  },
  "language_info": {
   "codemirror_mode": {
    "name": "ipython",
    "version": 2
   },
   "file_extension": ".py",
   "mimetype": "text/x-python",
   "name": "python",
   "nbconvert_exporter": "python",
   "pygments_lexer": "ipython2",
   "version": "2.7.10"
  }
 },
 "nbformat": 4,
 "nbformat_minor": 0
}
