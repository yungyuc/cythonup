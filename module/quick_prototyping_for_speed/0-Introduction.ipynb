{
 "cells": [
  {
   "cell_type": "markdown",
   "metadata": {
    "slideshow": {
     "slide_type": "slide"
    }
   },
   "source": [
    "# Cythonup: one-day Cython workshop\n",
    "## Quick Prototyping for Speed (0)\n",
    "### Tzer-jen Wei http://github.com/tjwei"
   ]
  },
  {
   "cell_type": "markdown",
   "metadata": {
    "slideshow": {
     "slide_type": "slide"
    }
   },
   "source": [
    "# 簡介\n",
    "## 何時該用 Cython 來快速成型與加速\n"
   ]
  },
  {
   "cell_type": "markdown",
   "metadata": {
    "slideshow": {
     "slide_type": "subslide"
    }
   },
   "source": [
    "## 用 C/C++ 寫不好嗎？\n",
    "* 一開始就就用 C/C++  ?\n",
    "* 先用 Python，然後改寫成 C++ ?\n",
    "\n",
    "有什麼理由要用 Cython ?\n"
   ]
  },
  {
   "cell_type": "markdown",
   "metadata": {
    "slideshow": {
     "slide_type": "slide"
    }
   },
   "source": [
    "# 圍棋 AI\n",
    "[go.py](/edit/go/go.py) UCT go player in python, by mark.dufour@gmail.com.\n",
    "\n",
    "利用 UCT 蒙地卡羅搜尋的圍棋 AI"
   ]
  },
  {
   "cell_type": "markdown",
   "metadata": {
    "slideshow": {
     "slide_type": "subslide"
    }
   },
   "source": [
    "### 測試跑的時間\n",
    "\n",
    "|         |            時間 |\n",
    "| ------------- |:--------------:|\n",
    "| CPython2.7      | 11.6s |\n",
    "| pypy| 8.92s|\n",
    "| Cython| 0.6s |\n",
    "\n",
    "請參考 [Worksheet](/notebooks/Worksheet-go.ipynb)\n",
    "\n",
    "Cython 的速度大約是 20 倍，完全一樣的程式碼，幾乎沒有修改"
   ]
  },
  {
   "cell_type": "markdown",
   "metadata": {
    "slideshow": {
     "slide_type": "subslide"
    }
   },
   "source": [
    "### 原因?\n",
    "因為 cython 會吃 [go.pxd](/edit/go/go.pxd) 來使用型態定義，所以表面上是一樣的原始碼，其實 cython 偷偷多知道很多資訊。"
   ]
  },
  {
   "cell_type": "markdown",
   "metadata": {
    "slideshow": {
     "slide_type": "subslide"
    }
   },
   "source": [
    "## 小結 1:\n",
    "* 加上型態，讓 cython 幫助你。\n",
    "* 但要怎麼加？"
   ]
  },
  {
   "cell_type": "markdown",
   "metadata": {
    "slideshow": {
     "slide_type": "slide"
    }
   },
   "source": [
    "# 背包問題"
   ]
  },
  {
   "cell_type": "markdown",
   "metadata": {
    "slideshow": {
     "slide_type": "subslide"
    }
   },
   "source": [
    "[背包問題](https://zh.wikipedia.org/zh-tw/%E8%83%8C%E5%8C%85%E9%97%AE%E9%A2%98) DFS 演算法\n",
    "\n",
    "[worksheet](/notebooks/Worksheet-knapsack.ipynb)"
   ]
  },
  {
   "cell_type": "markdown",
   "metadata": {
    "slideshow": {
     "slide_type": "subslide"
    }
   },
   "source": [
    "### 常見的流程\n",
    "* 一開始先用 python 弄一個很慢的原型 [knapsack_0_original.py](/edit/knapsack/knapsack_0_original.py)\n",
    "* python 很好寫，但是很容易寫很慢(不過一開始慢不要緊，相讓邏輯正確)\n",
    "* 查看一下問題出在哪裡\n",
    "* 修改一個效率較好的版本 [knapsack_1_improved.py](/edit/knapsack/knapsack_1_improved.py)\n",
    "* 像圍棋的例子一樣，加上型態試試看  [knapsack_2_typed.py](/edit/knapsack/knapsack_2_typed.py)"
   ]
  },
  {
   "cell_type": "markdown",
   "metadata": {
    "slideshow": {
     "slide_type": "subslide"
    }
   },
   "source": [
    " \n",
    "|                      | original| improved|typed |\n",
    "| -------------      |:--------------:|:--------:|:------:|\n",
    "| CPython2.7 | 8min 28s | 30s  | 30s|\n",
    "|pypy              |1min 16s |   3.12s|3.15s|\n",
    "| Cython         | 7min 1s|23s      |22.6s|"
   ]
  },
  {
   "cell_type": "markdown",
   "metadata": {
    "slideshow": {
     "slide_type": "subslide"
    }
   },
   "source": [
    "### 加上型態一點用都沒有! why?"
   ]
  },
  {
   "cell_type": "markdown",
   "metadata": {
    "collapsed": false,
    "slideshow": {
     "slide_type": "subslide"
    }
   },
   "source": [
    "看看 knapsack 3"
   ]
  },
  {
   "cell_type": "markdown",
   "metadata": {
    "slideshow": {
     "slide_type": "subslide"
    }
   },
   "source": [
    "|                      | original| improved|typed |memoryview |\n",
    "| -------------      |:--------------:|:--------:|:------:||\n",
    "| CPython2.7 | 8min 28s | 30s  | 30s|4.4s|\n",
    "|pypy              |1min 16s |   3.12s|3.15s|1.2s|\n",
    "| Cython         | 7min 1s|23s      |22.6s| 0.3s|"
   ]
  },
  {
   "cell_type": "markdown",
   "metadata": {
    "collapsed": false,
    "slideshow": {
     "slide_type": "subslide"
    }
   },
   "source": [
    "### 這時連 python 的速度都增加了！\n",
    "## 小結 2：\n",
    "\n",
    "用 C 的方式思考 能幫助寫出更快的程式\n",
    "\n",
    "----------------------------------------------------------------"
   ]
  },
  {
   "cell_type": "markdown",
   "metadata": {
    "collapsed": false,
    "slideshow": {
     "slide_type": "slide"
    }
   },
   "source": [
    "## Brainfuck interpreter"
   ]
  },
  {
   "cell_type": "markdown",
   "metadata": {
    "collapsed": true,
    "slideshow": {
     "slide_type": "subslide"
    }
   },
   "source": [
    "## mandelbrot.bf\n",
    "[worksheet](/notebooks/Worksheet-brainfuck.ipynb)\n",
    "\n",
    "|                      | dict|map |list|vector|vector/list|improved |inline|\n",
    "| -------------    |:--------------:|:--------:|:------:|||\n",
    "| CPython2.7 | ?| |?| | ?|1h 28min|1.54s|\n",
    "|pypy              | 6m 13s||3min 35s| |3m 25s|1m 17s||\n",
    "| Cython         | ?|?||1m 20s |1m 46s|29s/25s||\n",
    "\n",
    "最快的 interpreter 約 5.3s，快的編譯版本約 1.1s。"
   ]
  },
  {
   "cell_type": "markdown",
   "metadata": {
    "slideshow": {
     "slide_type": "subslide"
    }
   },
   "source": [
    "* 超級慢的原型 [bf0_original.py](/edit/brainfuck/bf0_original.py) (用 defaultdict)\n",
    "    * [bf1_map.pyx](/edit/brainfuck/bf1_map.pyx) 用 stl map 替代 defaultdict\n",
    "* [bf3_list_all.py](/edit/brainfuck/bf3_list_all.pyx)  因為記憶體使用上是連續的，用 python list 來取代 dict\n",
    "    * [bf3_vector_all.pyx](/edit/brainfuck/bf3_vector_all.pyx)  用 stl vector 替代 python list\n",
    "* 但是 vector 和 list 不一樣啊，程式碼不能共用，那乾脆直接寫 C++?\n",
    "    * 可以共用 [bf4_merge.py](/edit/brainfuck/bf4_merge.py),  [bf4_merge.pxd](/edit/brainfuck/bf4_merge.pxd)\n",
    "* 因為可以共用，繼續用 python 來嘗試新的可能。\n",
    "    * [bf5_improved.py](/edit/brainfuck/bf5_improved.py), 嘗試一些最加速策略\n",
    "    * [bf6_inline.py](/edit/brainfuck/bf6_inline.py), inline complied 版本"
   ]
  },
  {
   "cell_type": "markdown",
   "metadata": {
    "slideshow": {
     "slide_type": "subslide"
    }
   },
   "source": [
    "# 小結 3：\n",
    "* python 靈活性適合嘗試\n",
    "* 加上速度，能有更多嘗試的機會"
   ]
  }
 ],
 "metadata": {
  "celltoolbar": "Slideshow",
  "kernelspec": {
   "display_name": "Python 2",
   "language": "python",
   "name": "python2"
  },
  "language_info": {
   "codemirror_mode": {
    "name": "ipython",
    "version": 2
   },
   "file_extension": ".py",
   "mimetype": "text/x-python",
   "name": "python",
   "nbconvert_exporter": "python",
   "pygments_lexer": "ipython2",
   "version": "2.7.9"
  }
 },
 "nbformat": 4,
 "nbformat_minor": 0
}
