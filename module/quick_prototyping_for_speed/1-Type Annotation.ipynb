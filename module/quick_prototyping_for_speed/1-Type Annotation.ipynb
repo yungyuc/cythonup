{
 "cells": [
  {
   "cell_type": "markdown",
   "metadata": {},
   "source": [
    "# Cythonup: one-day Cython workshop\n",
    "## Quick Prototyping for Speed (1)\n",
    "### Tzer-jen Wei http://github.com/tjwei"
   ]
  },
  {
   "cell_type": "markdown",
   "metadata": {},
   "source": [
    "# 標記型態"
   ]
  },
  {
   "cell_type": "markdown",
   "metadata": {},
   "source": [
    "## 種類\n",
    "* 正常 cdef, pyx 檔\n",
    "* py/pxd 檔\n",
    "* pure python mode\n",
    "* python3 type hints"
   ]
  },
  {
   "cell_type": "code",
   "execution_count": null,
   "metadata": {
    "collapsed": true
   },
   "outputs": [],
   "source": [
    "%load_ext Cython"
   ]
  },
  {
   "cell_type": "markdown",
   "metadata": {},
   "source": [
    "_1.1_ 沒有標記的程式碼"
   ]
  },
  {
   "cell_type": "code",
   "execution_count": null,
   "metadata": {
    "collapsed": false
   },
   "outputs": [],
   "source": [
    "%%cython -a\n",
    "def f(x):\n",
    "    z = 3\n",
    "    y = x\n",
    "    for i in range(5):\n",
    "        z = z  + i * x\n",
    "        y = y + x \n",
    "        print(i+z)"
   ]
  },
  {
   "cell_type": "markdown",
   "metadata": {},
   "source": [
    "_1.2_ 加上輸入型態， 可以看到 `i,z,y` 都還是 python variables"
   ]
  },
  {
   "cell_type": "code",
   "execution_count": null,
   "metadata": {
    "collapsed": false
   },
   "outputs": [],
   "source": [
    "%%cython -a\n",
    "def f(int x):\n",
    "    z = 3\n",
    "    y = x\n",
    "    for i in range(5):\n",
    "        z = z  + i * x\n",
    "        y = y + x \n",
    "        print(i+z)"
   ]
  },
  {
   "cell_type": "markdown",
   "metadata": {},
   "source": [
    "_1.3_ 將 i, y, z 加上型態"
   ]
  },
  {
   "cell_type": "code",
   "execution_count": null,
   "metadata": {
    "collapsed": false
   },
   "outputs": [],
   "source": [
    "%%cython -a\n",
    "def f(int x):\n",
    "    cdef int i, y, z\n",
    "    z = 3\n",
    "    y = x\n",
    "    for i in range(5):\n",
    "        z = z  + i * x\n",
    "        y = y + x \n",
    "        print(i+z)"
   ]
  },
  {
   "cell_type": "markdown",
   "metadata": {},
   "source": [
    "_1.4_ Type Inference"
   ]
  },
  {
   "cell_type": "code",
   "execution_count": null,
   "metadata": {
    "collapsed": false
   },
   "outputs": [],
   "source": [
    "%%cython -a\n",
    "# cython: infer_types=True\n",
    "def f(int x):    \n",
    "    y, z = x, 3    \n",
    "    for i in range(5):\n",
    "        z = z  + i * x\n",
    "        y = y + x \n",
    "        print(i+z)"
   ]
  },
  {
   "cell_type": "markdown",
   "metadata": {},
   "source": [
    "_1.5_ Play with type inference"
   ]
  },
  {
   "cell_type": "code",
   "execution_count": null,
   "metadata": {
    "collapsed": false
   },
   "outputs": [],
   "source": [
    "%%cython -a -f\n",
    "# cython: infer_types=True\n",
    "# cython: infer_types.verbose=True \n",
    "from math import sin\n",
    "def f(int x):    \n",
    "    z = 3\n",
    "    y = x\n",
    "    u = 5.3\n",
    "    z += 1\n",
    "    t = u + 3\n",
    "    for i in range(10):\n",
    "        z += 1"
   ]
  },
  {
   "cell_type": "markdown",
   "metadata": {},
   "source": [
    "_2.1_ Pure Python mode"
   ]
  },
  {
   "cell_type": "code",
   "execution_count": null,
   "metadata": {
    "collapsed": false
   },
   "outputs": [],
   "source": [
    "%%cython -a -f\n",
    "# cython: infer_types=True, infer_types.verbose=True \n",
    "import cython\n",
    "@cython.locals(x='int')\n",
    "def f(x):    \n",
    "    y, z = x, 3    \n",
    "    for i in range(5):\n",
    "        z = z  + i * x\n",
    "        y = y + x \n",
    "        print(i+z)"
   ]
  },
  {
   "cell_type": "markdown",
   "metadata": {},
   "source": [
    "_2.2_ 一覽表\n",
    "* `@cython.cclass` == `cdef class`.\n",
    "* `@cython.cfunc` == `cdef` function.\n",
    "* `@cython.ccall` == `cpdef` function\n",
    "* `v = cython.declare(type)` == `cdef type v`  for global variable\n",
    "* `@cython.inline` == C inline \n",
    "* `@cython.return(type)` == function return type\n",
    "* `T = cython.typedef(cython.p_int)`  == `ctypedef`\n",
    "* `cython.compiled` 用來判斷是否用 cython 編譯\n",
    "\n",
    "參考 http://docs.cython.org/src/tutorial/pure.html"
   ]
  },
  {
   "cell_type": "markdown",
   "metadata": {},
   "source": [
    "_2.3_ Type Hinting"
   ]
  },
  {
   "cell_type": "code",
   "execution_count": null,
   "metadata": {
    "collapsed": false
   },
   "outputs": [],
   "source": [
    "%%cython -a -f\n",
    "# cython: infer_types=True, annotation_typing=True, infer_types.verbose=True \n",
    "def f(x: int):    \n",
    "    y, z = x, 3    \n",
    "    for i in range(5):\n",
    "        z = z  + i * x\n",
    "        y = y + x \n",
    "        print(i+z)"
   ]
  },
  {
   "cell_type": "markdown",
   "metadata": {},
   "source": [
    "_3.1_ .py/.pxd 和 .pyx"
   ]
  },
  {
   "cell_type": "markdown",
   "metadata": {},
   "source": [
    "* .py 中的 def 可以被 pxd 中的 cdef 蓋過\n",
    "* .py 有更多東西。有時會影響速度 參考 [worksheet](/notebooks/Worksheet-brainfuck.ipynb)  bf4/bfx4\n",
    "* default argument 要放在 .py 而不是 .pxd 中，.pxd 放 `cdef int _search(_Item[:] items, int K, int best_v=*, int current_v=*)`\n"
   ]
  },
  {
   "cell_type": "markdown",
   "metadata": {},
   "source": [
    "_3.2_ 標記的順序\n",
    "\n",
    "* 跟 visibility 有關\n",
    "* 通常 cython 比較容易看到 python 的東西"
   ]
  },
  {
   "cell_type": "code",
   "execution_count": null,
   "metadata": {
    "collapsed": true
   },
   "outputs": [],
   "source": [
    "%%cython\n",
    "# 用 public 和 cpdef 讓 python 看到 cython 的東西\n",
    "cdef class AA:\n",
    "    cdef public:\n",
    "        int kkk\n",
    "    cpdef xx():\n",
    "        print(\"x\")"
   ]
  },
  {
   "cell_type": "markdown",
   "metadata": {},
   "source": [
    "_4._ Fused type (template)"
   ]
  },
  {
   "cell_type": "code",
   "execution_count": null,
   "metadata": {
    "collapsed": false
   },
   "outputs": [],
   "source": [
    "%%cython -a\n",
    "cimport cython\n",
    "ctypedef fused mtype:\n",
    "    int\n",
    "    float\n",
    "    str\n",
    "cdef mtype x2(mtype var):\n",
    "    return var*2\n",
    "\n",
    "cdef int a = x2(1)\n",
    "cdef float b = x2(2.0)\n",
    "print(x2(\"aaa\"))"
   ]
  },
  {
   "cell_type": "code",
   "execution_count": null,
   "metadata": {
    "collapsed": false
   },
   "outputs": [],
   "source": [
    "%%cython -a\n",
    "# cython: infer_types=True, boundscheck=False\n",
    "# cython: infer_types.verbose=True \n",
    "cimport cython\n",
    "import numpy\n",
    "ctypedef fused mtype:\n",
    "    int\n",
    "    float\n",
    "    double\n",
    "    str\n",
    "cdef mtype p(mtype[] var):\n",
    "    s = var[0]\n",
    "    i = 0\n",
    "    while var[i]:\n",
    "        s += var[i]\n",
    "        i += 1\n",
    "    return s\n",
    "cdef int[4] a = [5,4,3,0]\n",
    "print p(a)\n",
    "cdef float[4] b = [5,4,3,0]\n",
    "print p(b)"
   ]
  },
  {
   "cell_type": "markdown",
   "metadata": {
    "collapsed": true
   },
   "source": [
    "_5._ Jedi Typer"
   ]
  },
  {
   "cell_type": "code",
   "execution_count": null,
   "metadata": {
    "collapsed": true
   },
   "outputs": [],
   "source": [
    "%loadpy examples/jedi_test.py"
   ]
  },
  {
   "cell_type": "code",
   "execution_count": null,
   "metadata": {
    "collapsed": false
   },
   "outputs": [],
   "source": [
    "%%bash\n",
    "cd examples\n",
    "# pip install jedi\n",
    "python jedi-typer.py jedi_test.py"
   ]
  },
  {
   "cell_type": "markdown",
   "metadata": {},
   "source": [
    "輸出的結果"
   ]
  },
  {
   "cell_type": "code",
   "execution_count": null,
   "metadata": {
    "collapsed": true
   },
   "outputs": [],
   "source": [
    "%loadpy examples/jedi_test.py_typed.py"
   ]
  }
 ],
 "metadata": {
  "celltoolbar": "Slideshow",
  "kernelspec": {
   "display_name": "Python 2",
   "language": "python",
   "name": "python2"
  },
  "language_info": {
   "codemirror_mode": {
    "name": "ipython",
    "version": 2
   },
   "file_extension": ".py",
   "mimetype": "text/x-python",
   "name": "python",
   "nbconvert_exporter": "python",
   "pygments_lexer": "ipython2",
   "version": "2.7.9"
  }
 },
 "nbformat": 4,
 "nbformat_minor": 0
}
