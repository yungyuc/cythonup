{
 "cells": [
  {
   "cell_type": "markdown",
   "metadata": {},
   "source": [
    "# Cythonup: one-day Cython workshop\n",
    "## Quick Prototyping for Speed (2)\n",
    "### Tzer-jen Wei http://github.com/tjwei"
   ]
  },
  {
   "cell_type": "markdown",
   "metadata": {},
   "source": [
    "\n",
    "# 用 C 的方式寫 Python"
   ]
  },
  {
   "cell_type": "markdown",
   "metadata": {},
   "source": [
    "_1._ 記憶體存取效率"
   ]
  },
  {
   "cell_type": "markdown",
   "metadata": {},
   "source": [
    "[knapsack_0_original.py](/edit/knapsack/knapsack_0_original.py) 的問題：\n",
    "\n",
    "第 21 行\n",
    "```python\n",
    "left = [item for item in items if item.weight <= K]\n",
    "```\n",
    "\n",
    "第 39 行\n",
    "\n",
    "```python\n",
    " v, idxs = search(left[i + 1:], K-item.weight, best_v, current_v+item.value, current_line+[item.index])\n",
    "```\n",
    "\n",
    "list copy/create 太過昂貴（雖然很方便）\n",
    "\n",
    "解決方法：\n",
    "* 非必要的東西不傳/不建立\n",
    "* 一定要傳的東西，共用/還原\n",
    "* 但是要很小心\n",
    "* np.array 和 cython 的 typed memoryview (類似 go 的 slice)\n",
    "* c array 自己追範圍\n",
    "* C++ 的 vector 取代 list"
   ]
  },
  {
   "cell_type": "code",
   "execution_count": null,
   "metadata": {
    "collapsed": false
   },
   "outputs": [],
   "source": [
    "%load_ext Cython"
   ]
  },
  {
   "cell_type": "markdown",
   "metadata": {},
   "source": [
    "標準例子 from http://docs.cython.org/src/userguide/memoryviews.html"
   ]
  },
  {
   "cell_type": "code",
   "execution_count": null,
   "metadata": {
    "collapsed": false
   },
   "outputs": [],
   "source": [
    "%%cython\n",
    "# cython: boundscheck=False\n",
    "from cython.view cimport array as cvarray\n",
    "import numpy as np\n",
    "\n",
    "# Memoryview on a NumPy array\n",
    "narr = np.arange(27, dtype=np.dtype(\"i\")).reshape((3, 3, 3))\n",
    "cdef int [:, :, :] narr_view = narr\n",
    "\n",
    "# Memoryview on a C array\n",
    "cdef int carr[3][3][3]\n",
    "cdef int [:, :, :] carr_view = carr\n",
    "\n",
    "# Memoryview on a Cython array\n",
    "cyarr = cvarray(shape=(3, 3, 3), itemsize=sizeof(int), format=\"i\")\n",
    "cdef int [:, :, :] cyarr_view = cyarr\n",
    "\n",
    "# Show the sum of all the arrays before altering it\n",
    "print \"NumPy sum of the NumPy array before assignments:\", narr.sum()\n",
    "\n",
    "# We can copy the values from one memoryview into another using a single\n",
    "# statement, by either indexing with ... or (NumPy-style) with a colon.\n",
    "carr_view[...] = narr_view\n",
    "cyarr_view[:] = narr_view\n",
    "# NumPy-style syntax for assigning a single value to all elements.\n",
    "narr_view[:, :, :] = 3\n",
    "\n",
    "# Just to distinguish the arrays\n",
    "carr_view[0, 0, 0] = 100\n",
    "cyarr_view[0, 0, 0] = 1000\n",
    "\n",
    "# Assigning into the memoryview on the NumPy array alters the latter\n",
    "print \"NumPy sum of NumPy array after assignments:\", narr.sum()\n",
    "\n",
    "# A function using a memoryview does not usually need the GIL\n",
    "cpdef int sum3d(int[:, :, :] arr) nogil:\n",
    "    cdef int total = 0\n",
    "    I = arr.shape[0]\n",
    "    J = arr.shape[1]\n",
    "    K = arr.shape[2]\n",
    "    for i in range(I):\n",
    "        for j in range(J):\n",
    "            for k in range(K):\n",
    "                total += arr[i, j, k]\n",
    "    return total\n",
    "\n",
    "# A function accepting a memoryview knows how to use a NumPy array,\n",
    "# a C array, a Cython array...\n",
    "print \"Memoryview sum of NumPy array is\", sum3d(narr)\n",
    "print \"Memoryview sum of C array is\", sum3d(carr)\n",
    "print \"Memoryview sum of Cython array is\", sum3d(cyarr)\n",
    "# ... and of course, a memoryview.\n",
    "print \"Memoryview sum of C memoryview is\", sum3d(carr_view)"
   ]
  },
  {
   "cell_type": "markdown",
   "metadata": {},
   "source": [
    "Memoryview 的用法和思維接近 np.array\n",
    "\n",
    "你可以用 np.array 來包\n",
    "* np.array\n",
    "* C array `cdef int carr[3][3][3]`\n",
    "* Cython array `from cython.view cimport array`\n",
    "* cython 會幫你自動轉換"
   ]
  },
  {
   "cell_type": "code",
   "execution_count": null,
   "metadata": {
    "collapsed": false
   },
   "outputs": [],
   "source": [
    "%%cython\n",
    "import numpy as np\n",
    "from array import array\n",
    "def f(long[:] a):\n",
    "    print \"type of a is\", a\n",
    "f(np.array([1,2,3]))\n",
    "cdef long[:] b =np.array([1,2,3])\n",
    "print \"type of b is\", b"
   ]
  },
  {
   "cell_type": "markdown",
   "metadata": {},
   "source": [
    "通常不需要 gil"
   ]
  },
  {
   "cell_type": "code",
   "execution_count": null,
   "metadata": {
    "collapsed": false
   },
   "outputs": [],
   "source": [
    "%%cython  --compile-args=-fopenmp  --link-args=-fopenmp\n",
    "# cython: infer_types=True, boundscheck=False \n",
    "from cython.parallel import prange\n",
    "from libc.math cimport sin\n",
    "\n",
    "# Single-threading version\n",
    "cpdef double[:] x3(double[:] a):\n",
    "    cdef Py_ssize_t i\n",
    "    cdef int n = a.size, j\n",
    "    for i in range(n):\n",
    "        for j in range(10000):\n",
    "            a[i] = sin(a[i]*a[i]+a[i])\n",
    "    return a\n",
    "\n",
    "# Multi-threading version\n",
    "cpdef double[:] px3(double[:] a):\n",
    "    cdef Py_ssize_t i\n",
    "    cdef int n = a.size, j\n",
    "    for i in prange(n, nogil=True):\n",
    "        for j in range(10000):\n",
    "            a[i] = sin(a[i]*a[i]+a[i])\n",
    "    return a"
   ]
  },
  {
   "cell_type": "markdown",
   "metadata": {},
   "source": [
    "測試 Single-threading version"
   ]
  },
  {
   "cell_type": "code",
   "execution_count": null,
   "metadata": {
    "collapsed": false
   },
   "outputs": [],
   "source": [
    "%%time\n",
    "import numpy as np\n",
    "a = np.arange(10000, dtype=float)\n",
    "x3(a)"
   ]
  },
  {
   "cell_type": "markdown",
   "metadata": {},
   "source": [
    "測試 Multithreading version"
   ]
  },
  {
   "cell_type": "code",
   "execution_count": null,
   "metadata": {
    "collapsed": false
   },
   "outputs": [],
   "source": [
    "%%time\n",
    "import numpy as np\n",
    "a = np.arange(10000, dtype=float)\n",
    "px3(a)"
   ]
  },
  {
   "cell_type": "markdown",
   "metadata": {},
   "source": [
    "### More about prange"
   ]
  },
  {
   "cell_type": "markdown",
   "metadata": {},
   "source": [
    "某些情形能夠用變數(`j` cython 會自動分析)"
   ]
  },
  {
   "cell_type": "code",
   "execution_count": null,
   "metadata": {
    "collapsed": false
   },
   "outputs": [],
   "source": [
    "%%cython -f --compile-args=-fopenmp  --link-args=-fopenmp\n",
    "# cython: infer_types=True, boundscheck=False \n",
    "from cython.parallel import prange\n",
    "import numpy as np\n",
    "cdef long psum(long[:] a):\n",
    "    cdef Py_ssize_t i\n",
    "    cdef long n = a.size, j=0\n",
    "    for i in prange(n, nogil=True):    \n",
    "        j+=a[i]\n",
    "        # a[i] =  j  # try to uncomment this line\n",
    "    return j\n",
    "print psum(np.array(range(100)))"
   ]
  },
  {
   "cell_type": "markdown",
   "metadata": {},
   "source": [
    "用 parallel context 設定 thread 數量\n",
    "\n",
    "或者 prange 裡面也能設定\n",
    "\n",
    "`cython.parallel.prange([start,] stop[, step][, nogil=False][, schedule=None[, chunksize=None]][, num_threads=None])`\n",
    "\n",
    "schedule 可以參考[文件](http://docs.cython.org/src/userguide/parallelism.html)\n",
    "\n",
    "prange 裡面能放 `with git:` 裡面可以呼叫 python 函數和物件"
   ]
  },
  {
   "cell_type": "code",
   "execution_count": null,
   "metadata": {
    "collapsed": false
   },
   "outputs": [],
   "source": [
    "%%cython  -f --compile-args=-fopenmp  --link-args=-fopenmp\n",
    "# cython: infer_types=True, boundscheck=False \n",
    "from cython.parallel import prange, parallel\n",
    "cdef fprint():\n",
    "    cdef Py_ssize_t i\n",
    "    with nogil, parallel(num_threads=8):\n",
    "        for i in prange(10):\n",
    "            with gil:\n",
    "                print i\n",
    "fprint()"
   ]
  },
  {
   "cell_type": "markdown",
   "metadata": {},
   "source": [
    "固定大小的記憶體存取通常都能 `nogil`, 但是自己要小心(注意輸出結果可能會有重複數字)"
   ]
  },
  {
   "cell_type": "code",
   "execution_count": null,
   "metadata": {
    "collapsed": false
   },
   "outputs": [],
   "source": [
    "%%cython  -f --cplus --compile-args=-fopenmp  --link-args=-fopenmp\n",
    "# cython: infer_types=True, infer_types.verbose=True, boundscheck=False \n",
    "from cython.parallel import prange\n",
    "from libcpp.vector cimport vector\n",
    "import numpy as np\n",
    "cimport numpy as np\n",
    "cdef passign(vector[long] a):\n",
    "    cdef Py_ssize_t i\n",
    "    #cdef np.ndarray[long, ndim=1] v= np.array([0])    \n",
    "    #cdef int[long] v=np.array([0])\n",
    "    cdef vector[long] v=[0]\n",
    "    for i in prange(20, nogil=True, num_threads = 20):\n",
    "        v[0] = v[0]+1\n",
    "        a[i] = v[0]\n",
    "    return a\n",
    "\n",
    "print passign([0]*20)"
   ]
  },
  {
   "cell_type": "markdown",
   "metadata": {},
   "source": [
    "但是要改變記憶體大小就需要 lock\n",
    "\n",
    "下面這段程式碼可以試試看把 `withgil` 註解掉(然後準備 crash)"
   ]
  },
  {
   "cell_type": "code",
   "execution_count": null,
   "metadata": {
    "collapsed": false
   },
   "outputs": [],
   "source": [
    "%%cython  -f --cplus --compile-args=-fopenmp  --link-args=-fopenmp\n",
    "# cython: infer_types=True, infer_types.verbose=True, boundscheck=False \n",
    "from cython.parallel import prange\n",
    "from libcpp.vector cimport vector\n",
    "cdef pappend():\n",
    "    cdef Py_ssize_t i\n",
    "    cdef vector[long] v=[]\n",
    "    for i in prange(10, nogil=True, num_threads = 4):\n",
    "        #with gil:\n",
    "            v.push_back(i)    \n",
    "    return v\n",
    "print pappend()"
   ]
  },
  {
   "cell_type": "code",
   "execution_count": null,
   "metadata": {
    "collapsed": false
   },
   "outputs": [],
   "source": [
    "# 如果 crash, 重新載入 Cython magic\n",
    "%load_ext Cython"
   ]
  },
  {
   "cell_type": "markdown",
   "metadata": {},
   "source": [
    "不用  gil 可以用 no-global lock"
   ]
  },
  {
   "cell_type": "code",
   "execution_count": null,
   "metadata": {
    "collapsed": false
   },
   "outputs": [],
   "source": [
    "%%cython  -f --cplus --compile-args=-fopenmp  --link-args=-fopenmp\n",
    "# cython: infer_types=True, infer_types.verbose=True, boundscheck=False \n",
    "from cython.parallel import prange\n",
    "from libcpp.vector cimport vector\n",
    "cimport openmp as omp\n",
    "cdef pappend():\n",
    "    cdef Py_ssize_t i\n",
    "    cdef vector[long] v=[]\n",
    "    cdef omp.omp_lock_t lock\n",
    "    omp.omp_init_lock(&lock)\n",
    "    for i in prange(10, nogil=True):\n",
    "        omp.omp_set_lock(&lock)\n",
    "        v.push_back(i)\n",
    "        omp.omp_unset_lock(&lock)                        \n",
    "    return v\n",
    "print pappend()"
   ]
  },
  {
   "cell_type": "markdown",
   "metadata": {},
   "source": [
    "# 用 Python 的方式寫 C"
   ]
  },
  {
   "cell_type": "markdown",
   "metadata": {},
   "source": [
    "* list 可以用 vector 替代 http://www.cplusplus.com/reference/vector/vector/\n",
    "* dict 可以用 map 替代（不過 map 比較像 defaultdict）http://www.cplusplus.com/reference/map/map/"
   ]
  },
  {
   "cell_type": "code",
   "execution_count": null,
   "metadata": {
    "collapsed": false
   },
   "outputs": [],
   "source": [
    "%%cython --cplus\n",
    "from libcpp.vector cimport vector\n",
    "from libcpp.map cimport map\n",
    "from libcpp.string cimport string\n",
    "cdef vector[long] v=[0,3,9]\n",
    "cdef map[string, long] m;\n",
    "m[\"aaa\"]=1;\n",
    "print v\n",
    "print m"
   ]
  },
  {
   "cell_type": "markdown",
   "metadata": {},
   "source": [
    "但怎麼共存？\n",
    "* len(list)   $\\neq$ vector.size\n",
    "* list.append $\\neq$ vector.push_back"
   ]
  },
  {
   "cell_type": "markdown",
   "metadata": {},
   "source": [
    "例子:  brainfuck4_merge\n",
    "\n",
    "in bf4_merge.pxd\n",
    "```cython\n",
    "from vector_list import vector\n",
    "vector[char] cells\n",
    "vector[char] P\n",
    "```\n",
    "\n",
    "in bf4_merge.py\n",
    "```python\n",
    "# 看起來跟普通的 list 一樣\n",
    "cells = [0]*1000\n",
    "P = [ord(x) for x in open(sys.argv[1], \"r\").read()]\n",
    "```\n",
    "in vector_list.pxd  (`list.__len__()` 在 python 也可以用)\n",
    "```cython\n",
    "        void append \"push_back\"(T&) except +\n",
    "        size_t __len__ \"size\"()\n",
    "```"
   ]
  },
  {
   "cell_type": "code",
   "execution_count": null,
   "metadata": {
    "collapsed": false
   },
   "outputs": [],
   "source": [
    "# 一段簡單的 Python code\n",
    "a = []\n",
    "for i in range(10):\n",
    "    a.append(i**2)\n",
    "print a\n",
    "print a.__len__()"
   ]
  },
  {
   "cell_type": "code",
   "execution_count": null,
   "metadata": {
    "collapsed": false
   },
   "outputs": [],
   "source": [
    "%%cython -a  -f --cplus\n",
    "# 加入簡單的定義\n",
    "from vector_list cimport vector\n",
    "cdef vector[long] a\n",
    "# 下面是同樣的 Python code\n",
    "a = []\n",
    "for i in range(10):\n",
    "    a.append(i**2)\n",
    "print a\n",
    "print a.__len__()"
   ]
  },
  {
   "cell_type": "markdown",
   "metadata": {},
   "source": [
    "cdef 出來的函數在 python 中沒有怎麼辦?\n",
    "\n",
    "例子: brainfuck5\n",
    "in brainfuck5_improved.pxd\n",
    "```cython\n",
    "from libc.stdio cimport putchar\n",
    "```\n",
    "in brainfuck5_improved.py\n",
    "```python\n",
    "from __future__ import print_function\n",
    "globals()['putchar'] = lambda x: print(chr(x), end=\"\")\n",
    "```\n",
    "\n",
    "或者 `from xxx import putchar` 也行\n"
   ]
  },
  {
   "cell_type": "code",
   "execution_count": null,
   "metadata": {
    "collapsed": false
   },
   "outputs": [],
   "source": [
    "from __future__ import print_function\n",
    "globals()['putchar'] = lambda x: print(chr(x), end=\"\")\n",
    "for x in [72, 101, 108, 108, 111,32,119,111,114,108, 100, 33, 10]:\n",
    "    putchar(x)"
   ]
  },
  {
   "cell_type": "code",
   "execution_count": null,
   "metadata": {
    "collapsed": false
   },
   "outputs": [],
   "source": [
    "%%cython -f -a\n",
    "from __future__ import print_function\n",
    "from libc.stdio cimport putchar\n",
    "# 一樣的 Python code\n",
    "globals()['putchar'] = lambda x: print(chr(x), end=\"\")\n",
    "for x in [72, 101, 108, 108, 111,32,119,111,114,108, 100, 33, 10]:\n",
    "    putchar(x)"
   ]
  },
  {
   "cell_type": "markdown",
   "metadata": {},
   "source": [
    "_2._ 指標"
   ]
  },
  {
   "cell_type": "markdown",
   "metadata": {},
   "source": [
    "cython 不像 C++ 有 `p->x` 和 `p.x` 的差別，在 cython 要特別小心 "
   ]
  }
 ],
 "metadata": {
  "kernelspec": {
   "display_name": "Python 2",
   "language": "python",
   "name": "python2"
  },
  "language_info": {
   "codemirror_mode": {
    "name": "ipython",
    "version": 2
   },
   "file_extension": ".py",
   "mimetype": "text/x-python",
   "name": "python",
   "nbconvert_exporter": "python",
   "pygments_lexer": "ipython2",
   "version": "2.7.9"
  }
 },
 "nbformat": 4,
 "nbformat_minor": 0
}
