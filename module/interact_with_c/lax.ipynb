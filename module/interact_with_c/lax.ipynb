{
 "cells": [
  {
   "cell_type": "markdown",
   "metadata": {
    "slideshow": {
     "slide_type": "slide"
    }
   },
   "source": [
    "# From Python to C -- Via Cython: Get Used to the Flow"
   ]
  },
  {
   "cell_type": "markdown",
   "metadata": {},
   "source": [
    "In this module, I will walk you though a complete flow from a pure Python implementation to an optimized C-Python hybrid code, step by step.  The process usually takes time, and once you get familiar with it you will skip some steps.  But at the beginning, it's good to do all the steps yourself."
   ]
  },
  {
   "cell_type": "markdown",
   "metadata": {
    "slideshow": {
     "slide_type": "slide"
    }
   },
   "source": [
    "## Step 0: Set up the framework code for the model problem"
   ]
  },
  {
   "cell_type": "markdown",
   "metadata": {
    "slideshow": {
     "slide_type": "-"
    }
   },
   "source": [
    "We will write a Python program to calculate a moving wave.  The model problem requires solving a first-order hyperbolic partial differential equation:\n",
    "\n",
    "$$\n",
    "\\frac{\\partial u}{\\partial t} + a \\frac{\\partial u}{\\partial x} = 0\n",
    "$$\n",
    "\n",
    "where $x, t$ are the independent variables for space and time, respectively.  $u = u(x, t)$ is the unknown, and $a$ is the wave speed (a constant)."
   ]
  },
  {
   "cell_type": "markdown",
   "metadata": {},
   "source": [
    "The discretized solution can be obtained by applying [the classic Lax-Wendroff scheme](http://onlinelibrary.wiley.com/doi/10.1002/cpa.3160130205/abstract):\n",
    "\n",
    "$$\n",
    "u_j^{n+1} = \\frac{\\nu(\\nu+1)}{2}u_{j-1}^n\n",
    "          + (1-\\nu^2)u_j^n\n",
    "          + \\frac{\\nu(\\nu-1)}{2}u_{j+1}^n\n",
    "$$\n",
    "\n",
    "In the above formula, $\\nu = a\\Delta t / \\Delta x$ is [the Courant–Friedrichs–Lewy (CFL) number](http://www.archive.org/stream/onpartialdiffere00cour#page/n1/mode/2up).  $\\Delta x$ and $\\Delta t$ are the intervals in space and time grid, respectively.  The subscript $j$ denotes the location in the spatial grid, while the superscript $n$ is the number of time step."
   ]
  },
  {
   "cell_type": "markdown",
   "metadata": {
    "slideshow": {
     "slide_type": "subslide"
    }
   },
   "source": [
    "Before getting into the numerical method and its code, create a class ```HarmonicMotion``` to house the settings and grids:"
   ]
  },
  {
   "cell_type": "code",
   "execution_count": 1,
   "metadata": {
    "collapsed": false,
    "slideshow": {
     "slide_type": "-"
    }
   },
   "outputs": [],
   "source": [
    "import numpy as np\n",
    "\n",
    "class HarmonicMotion(object):\n",
    "    \"\"\"Abstraction of moving the harmonic forward\"\"\"\n",
    "\n",
    "    def __init__(self, number):\n",
    "        \"\"\"\n",
    "        :param numer: Number of harmonic waves\n",
    "        :ivar marcher: Must set this attribute to a function that really moves\n",
    "            the wave.\n",
    "        \"\"\"\n",
    "        # Construct grid.\n",
    "        nx = 150\n",
    "        xgrid = np.zeros(nx, dtype='float64')\n",
    "        freq = 1\n",
    "        xmin, xmax = -0.5*np.pi / freq, 4*np.pi / freq\n",
    "        xgrid[:] = np.linspace(xmin, xmax, xgrid.shape[0])\n",
    "        # Construct initial condition.\n",
    "        sol = np.zeros_like(xgrid)\n",
    "        slct = (xgrid > 0) & (xgrid < np.pi / freq)\n",
    "        sol[slct] = np.sin(number * freq * xgrid)[slct]\n",
    "        # Assign object attributes.\n",
    "        self.xgrid = xgrid\n",
    "        self.sol = sol\n",
    "        self.soln = self.sol.copy()\n",
    "        self.cfl = 1.0 # This cannot be greater than unity.\n",
    "        self.time_increment = self.cfl * (xgrid[1] - xgrid[0]) # Stores as a record.\n",
    "        self.marcher = None # This should be assigned from outside.\n",
    "\n",
    "    @property\n",
    "    def nx(self):\n",
    "        \"\"\"Number of points in the spatial grid.\"\"\"\n",
    "        return self.xgrid.shape[0]\n",
    "\n",
    "    def march(self):\n",
    "        \"\"\"Call the marcher that moves the wave.\"\"\"\n",
    "        self.marcher(self.cfl, self.sol, self.soln)"
   ]
  },
  {
   "cell_type": "markdown",
   "metadata": {
    "slideshow": {
     "slide_type": "subslide"
    }
   },
   "source": [
    "### Visualization"
   ]
  },
  {
   "cell_type": "markdown",
   "metadata": {},
   "source": [
    "After the housing ```HarmonicMotion``` class, we use ```matplotlib``` to write a function ```show_step()``` for visualization:"
   ]
  },
  {
   "cell_type": "code",
   "execution_count": 2,
   "metadata": {
    "collapsed": false,
    "slideshow": {
     "slide_type": "-"
    }
   },
   "outputs": [
    {
     "name": "stdout",
     "output_type": "stream",
     "text": [
      "Populating the interactive namespace from numpy and matplotlib\n"
     ]
    }
   ],
   "source": [
    "# Magically plot inside the notebook.\n",
    "%pylab inline\n",
    "\n",
    "from matplotlib import pyplot as plt\n",
    "\n",
    "def show_step(marcher, number, steps, **kw):\n",
    "    \"\"\"Demonstrate simulation with graphical output\"\"\"\n",
    "    # Set up harmonic driver.\n",
    "    hm = HarmonicMotion(number)\n",
    "    hm.marcher = marcher\n",
    "\n",
    "    # Set up plotter.\n",
    "    fig = plt.figure()\n",
    "    ax = fig.add_subplot(111)\n",
    "    ax.set_xlabel(\"Location ($\\\\pi$)\")\n",
    "    ax.set_ylabel(\"Amplitude\")\n",
    "    # Title.\n",
    "    titlefmt = \"Step #%d/%d\"\n",
    "    text = ax.text(0.5, 1.05, \"\",\n",
    "                   transform=ax.transAxes, va=\"center\", ha=\"center\")\n",
    "    # Content line.\n",
    "    line, = ax.plot(hm.xgrid/np.pi, hm.soln)\n",
    "\n",
    "    # Loop to the end and draw.\n",
    "    it = 0\n",
    "    while it < steps:\n",
    "        hm.march()\n",
    "        it += 1\n",
    "    text.set_text(titlefmt % (it, steps))\n",
    "    line.set_ydata(hm.soln)\n",
    "\n",
    "    # Show it.\n",
    "    plt.show()"
   ]
  },
  {
   "cell_type": "markdown",
   "metadata": {
    "slideshow": {
     "slide_type": "-"
    }
   },
   "source": [
    "Note the above ```show_step()``` function takes a callable in its first argument.  It's the \"marcher\" that will be used to do the real calculation.  Before we make a \"marcher\", ```show_step()``` is useless, but we'll make one now."
   ]
  },
  {
   "cell_type": "markdown",
   "metadata": {
    "slideshow": {
     "slide_type": "slide"
    }
   },
   "source": [
    "## Step 1: The initial Python version"
   ]
  },
  {
   "cell_type": "markdown",
   "metadata": {},
   "source": [
    "We write a simple Python function to implement the Lax-Wendroff scheme:"
   ]
  },
  {
   "cell_type": "code",
   "execution_count": 3,
   "metadata": {
    "collapsed": true
   },
   "outputs": [],
   "source": [
    "def march_python(cfl, sol, soln):\n",
    "    \"\"\"Pure Python implementation of Lax-Wendroff scheme\"\"\"\n",
    "    itmax = sol.shape[0]-1\n",
    "    it = 1\n",
    "    while it < itmax:\n",
    "        soln[it] = (1 - cfl*cfl) * sol[it]\n",
    "        soln[it] += cfl * (cfl+1) / 2 * sol[it-1]\n",
    "        soln[it] += cfl * (cfl-1) / 2 * sol[it+1]\n",
    "        it += 1\n",
    "    sol[:] = soln[:]"
   ]
  },
  {
   "cell_type": "code",
   "execution_count": 4,
   "metadata": {
    "collapsed": false,
    "slideshow": {
     "slide_type": "subslide"
    }
   },
   "outputs": [
    {
     "data": {
      "image/png": "[encoded data removed]",
      "text/plain": [
       "<matplotlib.figure.Figure at 0x103fee590>"
      ]
     },
     "metadata": {},
     "output_type": "display_data"
    },
    {
     "data": {
      "image/png": "[encoded data removed]",
      "text/plain": [
       "<matplotlib.figure.Figure at 0x103fee810>"
      ]
     },
     "metadata": {},
     "output_type": "display_data"
    }
   ],
   "source": [
    "show_step(march_python, 2, 0)\n",
    "show_step(march_python, 2, 50)"
   ]
  },
  {
   "cell_type": "markdown",
   "metadata": {
    "slideshow": {
     "slide_type": "slide"
    }
   },
   "source": [
    "## Step 2: Let Numpy help"
   ]
  },
  {
   "cell_type": "markdown",
   "metadata": {},
   "source": [
    "Python is slow.  For numerical calculations it is deadly slow, so that we call Numpy for rescue.  First we make a Numpy equivalent to ```march_python()```, and call it ```march_numpy()```:"
   ]
  },
  {
   "cell_type": "code",
   "execution_count": 5,
   "metadata": {
    "collapsed": true
   },
   "outputs": [],
   "source": [
    "def march_numpy(cfl, sol, soln):\n",
    "    \"\"\"NumPy array-based implementation of Lax-Wendroff scheme\"\"\"\n",
    "    soln[:] = sol[:]\n",
    "    soln *= 1 - cfl*cfl\n",
    "    soln[1:] += cfl * (cfl+1) / 2 * sol[:-1]\n",
    "    soln[:-1] += cfl * (cfl-1) / 2 * sol[1:]\n",
    "    sol[:] = soln[:]"
   ]
  },
  {
   "cell_type": "markdown",
   "metadata": {
    "slideshow": {
     "slide_type": "subslide"
    }
   },
   "source": [
    "Make sure it's working:"
   ]
  },
  {
   "cell_type": "code",
   "execution_count": 6,
   "metadata": {
    "collapsed": false
   },
   "outputs": [
    {
     "data": {
      "image/png": "[encoded data removed]",
      "text/plain": [
       "<matplotlib.figure.Figure at 0x105d80890>"
      ]
     },
     "metadata": {},
     "output_type": "display_data"
    },
    {
     "data": {
      "image/png": "[encoded data removed]",
      "text/plain": [
       "<matplotlib.figure.Figure at 0x105d80ed0>"
      ]
     },
     "metadata": {},
     "output_type": "display_data"
    }
   ],
   "source": [
    "show_step(march_numpy, 2, 0)\n",
    "show_step(march_numpy, 2, 50)"
   ]
  },
  {
   "cell_type": "markdown",
   "metadata": {
    "slideshow": {
     "slide_type": "subslide"
    }
   },
   "source": [
    "Thanks to Moore's Law, our computers now run too fast and you can't tell the difference between the two marchers.  Let's do a benchmark to show how good Numpy does."
   ]
  },
  {
   "cell_type": "code",
   "execution_count": 7,
   "metadata": {
    "collapsed": true
   },
   "outputs": [],
   "source": [
    "def run(marcher, steps=300, number=1, **kw):\n",
    "    \"\"\"Run simulation without output\"\"\"\n",
    "    hm = HarmonicMotion(number)\n",
    "    hm.marcher = marcher\n",
    "    it = 0\n",
    "    while (it < steps):\n",
    "        hm.march()\n",
    "        it += 1\n",
    "    return hm"
   ]
  },
  {
   "cell_type": "code",
   "execution_count": 8,
   "metadata": {
    "collapsed": false
   },
   "outputs": [
    {
     "name": "stdout",
     "output_type": "stream",
     "text": [
      "10 loops, best of 3: 58.7 ms per loop\n",
      "1000 loops, best of 3: 2.01 ms per loop\n"
     ]
    }
   ],
   "source": [
    "%timeit run(march_python)\n",
    "%timeit run(march_numpy)"
   ]
  },
  {
   "cell_type": "markdown",
   "metadata": {},
   "source": [
    "Numpy gave us 30-fold speed-up.  Not bad."
   ]
  },
  {
   "cell_type": "markdown",
   "metadata": {
    "slideshow": {
     "slide_type": "subslide"
    }
   },
   "source": [
    "### What's wrong with Numpy"
   ]
  },
  {
   "cell_type": "markdown",
   "metadata": {},
   "source": [
    "Numpy provides acceptable speed-up.  Then why do we want to use Cython?  The reason can be revealed by comparing the Python and Numpy code.  First, the ```march_python()```:\n",
    "\n",
    "```python\n",
    "def march_python(cfl, sol, soln):\n",
    "    \"\"\"Pure Python implementation of Lax-Wendroff scheme\"\"\"\n",
    "    itmax = sol.shape[0]-1\n",
    "    it = 1\n",
    "    while it < itmax:\n",
    "        soln[it] = (1 - cfl*cfl) * sol[it]\n",
    "        soln[it] += cfl * (cfl+1) / 2 * sol[it-1]\n",
    "        soln[it] += cfl * (cfl-1) / 2 * sol[it+1]\n",
    "        it += 1\n",
    "    sol[:] = soln[:]\n",
    "```\n",
    "\n",
    "Then ```march_numpy()```:\n",
    "\n",
    "```python\n",
    "def march_numpy(cfl, sol, soln):\n",
    "    \"\"\"NumPy array-based implementation of Lax-Wendroff scheme\"\"\"\n",
    "    soln[:] = sol[:]\n",
    "    soln *= 1 - cfl*cfl\n",
    "    soln[1:] += cfl * (cfl+1) / 2 * sol[:-1]\n",
    "    soln[:-1] += cfl * (cfl-1) / 2 * sol[1:]\n",
    "    sol[:] = soln[:]\n",
    "```\n",
    "\n",
    "What Numpy does for the speed-up is to move the loop from Python to the C code inside Numpy.  The cost for the speed-up is the cryptic code."
   ]
  },
  {
   "cell_type": "markdown",
   "metadata": {
    "slideshow": {
     "slide_type": "slide"
    }
   },
   "source": [
    "## Step 3: Cython-enhanced code"
   ]
  },
  {
   "cell_type": "markdown",
   "metadata": {},
   "source": [
    "Before transforming ```march_python()``` to Cython, enable the Cython extension in the iPython notebook:"
   ]
  },
  {
   "cell_type": "code",
   "execution_count": 9,
   "metadata": {
    "collapsed": true
   },
   "outputs": [],
   "source": [
    "%load_ext Cython"
   ]
  },
  {
   "cell_type": "markdown",
   "metadata": {
    "slideshow": {
     "slide_type": "-"
    }
   },
   "source": [
    "Then we use the ```%%cython``` magic to port ```march_python()``` to a Cython version:"
   ]
  },
  {
   "cell_type": "code",
   "execution_count": 10,
   "metadata": {
    "collapsed": false
   },
   "outputs": [],
   "source": [
    "%%cython\n",
    "\n",
    "cimport numpy as np\n",
    "\n",
    "# Initialize NumPy.\n",
    "np.import_array()\n",
    "\n",
    "def march_cython(double cfl,\n",
    "                 np.ndarray[double, ndim=1, mode=\"c\"] sol,\n",
    "                 np.ndarray[double, ndim=1, mode=\"c\"] soln):\n",
    "    cdef int itmax = sol.shape[0]-1\n",
    "    cdef int it = 1\n",
    "    while it < itmax:\n",
    "        soln[it] = (1 - cfl*cfl) * sol[it]\n",
    "        soln[it] += cfl * (cfl+1) / 2 * sol[it-1]\n",
    "        soln[it] += cfl * (cfl-1) / 2 * sol[it+1]\n",
    "        it += 1\n",
    "    sol[:] = soln[:]"
   ]
  },
  {
   "cell_type": "markdown",
   "metadata": {
    "slideshow": {
     "slide_type": "subslide"
    }
   },
   "source": [
    "Comparing the Python version\n",
    "\n",
    "```python\n",
    "def march_python(cfl, sol, soln):\n",
    "    \"\"\"Pure Python implementation of Lax-Wendroff scheme\"\"\"\n",
    "    itmax = sol.shape[0]-1\n",
    "    it = 1\n",
    "    while it < itmax:\n",
    "        soln[it] = (1 - cfl*cfl) * sol[it]\n",
    "        soln[it] += cfl * (cfl+1) / 2 * sol[it-1]\n",
    "        soln[it] += cfl * (cfl-1) / 2 * sol[it+1]\n",
    "        it += 1\n",
    "    sol[:] = soln[:]\n",
    "```\n",
    "\n",
    "with the Cython version\n",
    "\n",
    "```python\n",
    "def march_cython(double cfl,\n",
    "                 np.ndarray[double, ndim=1, mode=\"c\"] sol,\n",
    "                 np.ndarray[double, ndim=1, mode=\"c\"] soln):\n",
    "    cdef int itmax = sol.shape[0]-1\n",
    "    cdef int it = 1\n",
    "    while it < itmax:\n",
    "        soln[it] = (1 - cfl*cfl) * sol[it]\n",
    "        soln[it] += cfl * (cfl+1) / 2 * sol[it-1]\n",
    "        soln[it] += cfl * (cfl-1) / 2 * sol[it+1]\n",
    "        it += 1\n",
    "    sol[:] = soln[:]\n",
    "```\n",
    "\n",
    "the only thing we did was adding type annotation."
   ]
  },
  {
   "cell_type": "markdown",
   "metadata": {
    "slideshow": {
     "slide_type": "subslide"
    }
   },
   "source": [
    "Make sure it works correctly:"
   ]
  },
  {
   "cell_type": "code",
   "execution_count": 11,
   "metadata": {
    "collapsed": false
   },
   "outputs": [
    {
     "data": {
      "image/png": "[encoded data removed]",
      "text/plain": [
       "<matplotlib.figure.Figure at 0x1059b2390>"
      ]
     },
     "metadata": {},
     "output_type": "display_data"
    },
    {
     "data": {
      "image/png": "[encoded data removed]",
      "text/plain": [
       "<matplotlib.figure.Figure at 0x105ed9d10>"
      ]
     },
     "metadata": {},
     "output_type": "display_data"
    }
   ],
   "source": [
    "show_step(march_cython, 2, 0)\n",
    "show_step(march_cython, 2, 50)"
   ]
  },
  {
   "cell_type": "markdown",
   "metadata": {
    "slideshow": {
     "slide_type": "subslide"
    }
   },
   "source": [
    "In the following benchmark, we see Cython not only makes the code more comprehensible, but also doubles the speed!"
   ]
  },
  {
   "cell_type": "code",
   "execution_count": 12,
   "metadata": {
    "collapsed": false
   },
   "outputs": [
    {
     "name": "stdout",
     "output_type": "stream",
     "text": [
      "10 loops, best of 3: 63.7 ms per loop\n",
      "100 loops, best of 3: 2.61 ms per loop\n",
      "1000 loops, best of 3: 885 µs per loop\n"
     ]
    }
   ],
   "source": [
    "%timeit run(march_python)\n",
    "%timeit run(march_numpy)\n",
    "%timeit run(march_cython)"
   ]
  },
  {
   "cell_type": "markdown",
   "metadata": {
    "slideshow": {
     "slide_type": "slide"
    }
   },
   "source": [
    "## Step 4: Go to C if it's not enough"
   ]
  },
  {
   "cell_type": "markdown",
   "metadata": {},
   "source": [
    "We go to C for two reasons:\n",
    "\n",
    "1. Faster runtime.\n",
    "2. Accessing low-level capability.\n",
    "\n",
    "Here we focus on the first one."
   ]
  },
  {
   "cell_type": "markdown",
   "metadata": {},
   "source": [
    "The general idea is to create a Cython wrapper function:\n",
    "\n",
    "```python\n",
    "cdef extern:\n",
    "    void _march_c(double cfl, int nsol, double *sol, double *soln)\n",
    "\n",
    "@cython.boundscheck(False)\n",
    "def march_c(double cfl,\n",
    "            np.ndarray[double, ndim=1, mode=\"c\"] sol,\n",
    "            np.ndarray[double, ndim=1, mode=\"c\"] soln):\n",
    "    _march_c(cfl, sol.shape[0], &sol[0], &soln[0])\n",
    "```"
   ]
  },
  {
   "cell_type": "markdown",
   "metadata": {
    "slideshow": {
     "slide_type": "subslide"
    }
   },
   "source": [
    "```march_c()``` wraps around the C worker function ```_march_c()```:\n",
    "\n",
    "```C\n",
    "void _march_c(double cfl, int nsol, double *sol, double *soln) {\n",
    "    int itmax = nsol - 1;\n",
    "    int it = 1;\n",
    "    while (it < itmax) {\n",
    "        soln[it] = (1 - cfl*cfl) * sol[it];\n",
    "        soln[it] += cfl * (cfl+1) / 2 * sol[it-1];\n",
    "        soln[it] += cfl * (cfl-1) / 2 * sol[it+1];\n",
    "        it += 1;\n",
    "    }\n",
    "    for (it = 0; it < nsol; it++) {\n",
    "        sol[it] = soln[it];\n",
    "    }\n",
    "}\n",
    "```\n",
    "\n",
    "It's straight-forwardly ported from the Cython version:\n",
    "\n",
    "```python\n",
    "def march_cython(double cfl,\n",
    "                 np.ndarray[double, ndim=1, mode=\"c\"] sol,\n",
    "                 np.ndarray[double, ndim=1, mode=\"c\"] soln):\n",
    "    cdef int itmax = sol.shape[0]-1\n",
    "    cdef int it = 1\n",
    "    while it < itmax:\n",
    "        soln[it] = (1 - cfl*cfl) * sol[it]\n",
    "        soln[it] += cfl * (cfl+1) / 2 * sol[it-1]\n",
    "        soln[it] += cfl * (cfl-1) / 2 * sol[it+1]\n",
    "        it += 1\n",
    "    sol[:] = soln[:]\n",
    "```"
   ]
  },
  {
   "cell_type": "markdown",
   "metadata": {
    "slideshow": {
     "slide_type": "slide"
    }
   },
   "source": [
    "## Example 1: Build Cython and C"
   ]
  },
  {
   "cell_type": "markdown",
   "metadata": {},
   "source": [
    "A build system is required to compile the C code into binary.  Cython _alone_ can't do it automatically.  We will need to use ```distutils``` as well.  Now, we will practice by creating the following files and put them in the directory ```01_build_cython_and_c/```:\n",
    "\n",
    "1. ```setup.py```: The script driving ```distutils```.\n",
    "2. ```march_c.pyx```: The Cython module for the wrapping function ```march_c()```.\n",
    "3. ```_march_c.c```: The C file containing the worker function ```_march_c()```.\n",
    "\n",
    "If something goes wrong when your edit, check the already-written code in the directory ```ref_01_build_cython_and_c/```."
   ]
  },
  {
   "cell_type": "markdown",
   "metadata": {
    "slideshow": {
     "slide_type": "subslide"
    }
   },
   "source": [
    "In ```setup.py``` we write:\n",
    "\n",
    "```python\n",
    "from __future__ import absolute_import, division, print_function\n",
    "\n",
    "from distutils.core import setup\n",
    "from distutils.extension import Extension\n",
    "\n",
    "from Cython.Build import cythonize\n",
    "import numpy as np\n",
    "\n",
    "\n",
    "def main():\n",
    "    extensions = cythonize([\n",
    "        Extension(\"march_c\",\n",
    "                  [\"march_c.pyx\", \"_march_c.c\"],\n",
    "                  include_dirs=[np.get_include()]),\n",
    "    ])\n",
    "    setup(\n",
    "        ext_modules=extensions,\n",
    "    )\n",
    "\n",
    "\n",
    "if __name__ == \"__main__\":\n",
    "    main()\n",
    "```"
   ]
  },
  {
   "cell_type": "markdown",
   "metadata": {
    "slideshow": {
     "slide_type": "subslide"
    }
   },
   "source": [
    "In ```march_c.pyx``` we write:\n",
    "\n",
    "```python\n",
    "cimport numpy as np\n",
    "cimport cython\n",
    "\n",
    "# Initialize NumPy.\n",
    "np.import_array()\n",
    "\n",
    "cdef extern:\n",
    "    void _march_c(double cfl, int nsol, double *sol, double *soln)\n",
    "\n",
    "@cython.boundscheck(False)\n",
    "def march_c(double cfl,\n",
    "            np.ndarray[double, ndim=1, mode=\"c\"] sol,\n",
    "            np.ndarray[double, ndim=1, mode=\"c\"] soln):\n",
    "    _march_c(cfl, sol.shape[0], &sol[0], &soln[0])\n",
    "```"
   ]
  },
  {
   "cell_type": "markdown",
   "metadata": {
    "slideshow": {
     "slide_type": "subslide"
    }
   },
   "source": [
    "In ```_march_c.c``` we write:\n",
    "\n",
    "```C\n",
    "void _march_c(double cfl, int nsol, double *sol, double *soln) {\n",
    "    int itmax = nsol - 1;\n",
    "    int it = 1;\n",
    "    while (it < itmax) {\n",
    "        soln[it] = (1 - cfl*cfl) * sol[it];\n",
    "        soln[it] += cfl * (cfl+1) / 2 * sol[it-1];\n",
    "        soln[it] += cfl * (cfl-1) / 2 * sol[it+1];\n",
    "        it += 1;\n",
    "    }\n",
    "    for (it = 0; it < nsol; it++) {\n",
    "        sol[it] = soln[it];\n",
    "    }\n",
    "}\n",
    "```"
   ]
  },
  {
   "cell_type": "markdown",
   "metadata": {
    "slideshow": {
     "slide_type": "subslide"
    }
   },
   "source": [
    "Build the module with the following command:\n",
    "\n",
    "```bash\n",
    "$ python setup.py build_ext --inplace\n",
    "```\n",
    "\n",
    "The built module surely contains the ```march_c()``` function:\n",
    "\n",
    "```bash\n",
    "$ python -c \"import march_c; assert hasattr(march_c, 'march_c')\"\n",
    "```\n",
    "\n",
    "although it's a lonely function hanging there useless."
   ]
  },
  {
   "cell_type": "markdown",
   "metadata": {
    "slideshow": {
     "slide_type": "slide"
    }
   },
   "source": [
    "## Example 2: Make a package"
   ]
  },
  {
   "cell_type": "markdown",
   "metadata": {},
   "source": [
    "The `march_c()` function (which calls the real worker code `_march_c()`) alone is useless.  The marcher needs the code to set up the propagating-wave problem: class `HarmonicMotion` and function `show_step()`.  We should house the code in a new Python module file ```core.py``` as a companion with ```march_c.pyx```.  As such, the structure becomes:\n",
    "\n",
    "1. ```setup.py```: The script driving ```distutils```.\n",
    "2. ```lax/__init__.py```: An empty, package-enabling file.\n",
    "3. ```lax/core.py```: The problem framework.\n",
    "4. ```lax/march_c.pyx```: The Cython module for the wrapping function `march_c()`.\n",
    "5. ```lax/_march_c.c```: The C file containing the worker function `_march_c()`.\n",
    "\n",
    "That is, we want a Python package ```lax``` that contains all the code.  Create the directory ```02_make_a_package/``` and make it look like above.  If anything goes wrong with your editing, check ```ref_02_make_a_package/```."
   ]
  },
  {
   "cell_type": "markdown",
   "metadata": {
    "slideshow": {
     "slide_type": "subslide"
    }
   },
   "source": [
    "We need to change a bit to ```setup.py```.  It becomes:\n",
    "\n",
    "```python\n",
    "from __future__ import absolute_import, division, print_function\n",
    "\n",
    "from distutils.core import setup\n",
    "from distutils.extension import Extension\n",
    "\n",
    "from Cython.Build import cythonize\n",
    "import numpy as np\n",
    "\n",
    "\n",
    "def main():\n",
    "    extensions = cythonize([\n",
    "        Extension(\"lax.march_c\", # Everything now is under the directory lax/.\n",
    "                  [\"lax/march_c.pyx\", \"lax/_march_c.c\"],\n",
    "                  include_dirs=[np.get_include()]),\n",
    "    ])\n",
    "    setup(\n",
    "        packages=[\"lax\"], # Tell distutils to make a package.\n",
    "        ext_modules=extensions,\n",
    "    )\n",
    "\n",
    "\n",
    "if __name__ == \"__main__\":\n",
    "    main()\n",
    "```\n",
    "\n"
   ]
  },
  {
   "cell_type": "markdown",
   "metadata": {
    "slideshow": {
     "slide_type": "subslide"
    }
   },
   "source": [
    "In addition to `HarmonicMotion` and `show_step()` (**don't forget to write them into the file**), ```lax/core.py``` needs to import `march_c`:\n",
    "\n",
    "```python\n",
    "from .march_c import march_c\n",
    "```\n",
    "\n",
    "```lax/core.py``` also provides a simple command-line interface:\n",
    "\n",
    "```python\n",
    "import argparse\n",
    "\n",
    "def parse_command_line():\n",
    "    \"\"\"Parse the command-line arguments\"\"\"\n",
    "    parser = argparse.ArgumentParser(description=\"Harmonic Motion\")\n",
    "    def wavenumber(val):\n",
    "        val = float(val)\n",
    "        assert val >= 1.0\n",
    "        return val\n",
    "    parser.add_argument(\"-s\", dest=\"steps\", action=\"store\",\n",
    "                        type=int, default=0,\n",
    "                        help=\"Steps to run\")\n",
    "    parser.add_argument(\"-n\", dest=\"number\", action=\"store\",\n",
    "                        type=wavenumber, default=2,\n",
    "                        help=\"Number of harmonics; default is %(default)s\")\n",
    "    return parser.parse_args()\n",
    "\n",
    "\n",
    "def main():\n",
    "    args = parse_command_line()\n",
    "    kw = vars(args)\n",
    "    show_step(march_c, **kw)\n",
    "\n",
    "\n",
    "if __name__ == '__main__':\n",
    "    main()\n",
    "```"
   ]
  },
  {
   "cell_type": "markdown",
   "metadata": {
    "slideshow": {
     "slide_type": "subslide"
    }
   },
   "source": [
    "The command-line interface allows the module `lax.core` to be invoked as a script:\n",
    "\n",
    "```bash\n",
    "$ python -m lax.core -h\n",
    "usage: core.py [-h] [-s STEPS] [-n NUMBER]\n",
    "\n",
    "Harmonic Motion\n",
    "\n",
    "optional arguments:\n",
    "  -h, --help  show this help message and exit\n",
    "  -s STEPS    Steps to run\n",
    "  -n NUMBER   Number of harmonics; default is 2\n",
    "```\n",
    "\n",
    "Don't forget to build the binary with\n",
    "\n",
    "```bash\n",
    "$ python setup.py build_ext --inplace\n",
    "```\n",
    "\n",
    "before running the code.\n",
    "\n",
    "Note, in the VM that doesn't have a X server, you won't see the plotting."
   ]
  },
  {
   "cell_type": "markdown",
   "metadata": {
    "slideshow": {
     "slide_type": "slide"
    }
   },
   "source": [
    "## Example 3: Compare all"
   ]
  },
  {
   "cell_type": "markdown",
   "metadata": {},
   "source": [
    "Finally, we put together all the four implementations of our marcher: `march_c()`, `march_cython()`, `march_numpy()`, and `march_python()`.  Create the directory ```03_compare_all/``` and add the following files.\n",
    "\n",
    "1. ```setup.py```: The script driving ```distutils```.\n",
    "2. ```lax/__init__.py```: An empty, package-enabling file.\n",
    "3. ```lax/core.py```: In addition to the problem framework, we add numerical methods implemented in pure Python. \n",
    "4. ```lax/march_c.pyx```: The Cython module for the wrapping function `march_c()`.\n",
    "5. ```lax/_march_c.c```: The C file containing the worker function `_march_c()`.\n",
    "6. ```lax/march_cython.pyx```: The Cython module for `march_cython()`.\n",
    "\n",
    "If something goes wrong when your edit, check the already-written code in the directory ```ref_03_compare_all/```."
   ]
  },
  {
   "cell_type": "markdown",
   "metadata": {
    "slideshow": {
     "slide_type": "subslide"
    }
   },
   "source": [
    "The ```setup.py``` should be changed to:\n",
    "\n",
    "```python\n",
    "from __future__ import absolute_import, division, print_function\n",
    "\n",
    "from distutils.core import setup\n",
    "from distutils.extension import Extension\n",
    "\n",
    "from Cython.Build import cythonize\n",
    "import numpy as np\n",
    "\n",
    "\n",
    "def main():\n",
    "    extensions = cythonize([\n",
    "        Extension(\"lax.march_cython\", # Bring in the Cython version.\n",
    "                  [\"lax/march_cython.pyx\"],\n",
    "                  include_dirs=[np.get_include()]),\n",
    "        Extension(\"lax.march_c\",\n",
    "                  [\"lax/march_c.pyx\", \"lax/_march_c.c\"],\n",
    "                  include_dirs=[np.get_include()]),\n",
    "    ])\n",
    "    setup(\n",
    "        packages=['lax'],\n",
    "        ext_modules=extensions,\n",
    "    )\n",
    "\n",
    "\n",
    "if __name__ == \"__main__\":\n",
    "    main()\n",
    "```"
   ]
  },
  {
   "cell_type": "markdown",
   "metadata": {
    "slideshow": {
     "slide_type": "subslide"
    }
   },
   "source": [
    "In addition to writing `march_python()` and `march_numpy()` into ```core.py```, import ```march_cython.pyx```:\n",
    "\n",
    "```python\n",
    "from .march_cython import march_cython\n",
    "```\n",
    "\n",
    "To benchmark the marchers, implement the following function in ```core.py```:\n",
    "\n",
    "```python\n",
    "def run(marcher, steps=300, number=1, **kw):\n",
    "    \"\"\"Run simulation without output\"\"\"\n",
    "    hm = HarmonicMotion(number)\n",
    "    hm.marcher = marcher\n",
    "    it = 0\n",
    "    while (it < steps):\n",
    "        hm.march()\n",
    "        it += 1\n",
    "    return hm\n",
    "```\n",
    "\n",
    "After all the editing, don't forget to build:\n",
    "\n",
    "\n",
    "```bash\n",
    "$ python setup.py build_ext --inplace\n",
    "```"
   ]
  },
  {
   "cell_type": "markdown",
   "metadata": {
    "slideshow": {
     "slide_type": "subslide"
    }
   },
   "source": [
    "After compilation, we can run the benchmark code:\n",
    "\n",
    "```bash\n",
    "$ python -m timeit -s \"from lax import core\" \"core.run(core.march_python)\"\n",
    "10 loops, best of 3: 64.6 msec per loop\n",
    "$ python -m timeit -s \"from lax import core\" \"core.run(core.march_numpy)\"\n",
    "100 loops, best of 3: 2.1 msec per loop\n",
    "$ python -m timeit -s \"from lax import core\" \"core.run(core.march_cython)\"\n",
    "1000 loops, best of 3: 817 usec per loop\n",
    "$ python -m timeit -s \"from lax import core\" \"core.run(core.march_c)\"\n",
    "1000 loops, best of 3: 495 usec per loop\n",
    "```\n",
    "\n",
    "The exact number differs from machine to machine, but the work on C really pays off."
   ]
  }
 ],
 "metadata": {
  "celltoolbar": "Slideshow",
  "kernelspec": {
   "display_name": "Python 2",
   "language": "python",
   "name": "python2"
  },
  "language_info": {
   "codemirror_mode": {
    "name": "ipython",
    "version": 2
   },
   "file_extension": ".py",
   "mimetype": "text/x-python",
   "name": "python",
   "nbconvert_exporter": "python",
   "pygments_lexer": "ipython2",
   "version": "2.7.10"
  }
 },
 "nbformat": 4,
 "nbformat_minor": 0
}
